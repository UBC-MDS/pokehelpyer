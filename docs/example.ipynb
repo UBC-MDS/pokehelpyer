{
    "cells": [
        {
            "attachments": {},
            "cell_type": "markdown",
            "metadata": {},
            "source": [
                "# Example usage\n",
                "\n",
                "`pokehelpyer` is a Python package designed to assist Pokémon players in building teams of pokémon. Users can provide a list of pokémon(up to 5) currently on their team, and pokehelpyer will make a suitable recommendation for pokémon, which can strengthen the team by balancing the current team's overall weaknesses and resistances.\n",
                "\n",
                "To use `pokehelpyer` in a project, first of all, we will import the package as shown below-"
            ]
        },
        {
            "cell_type": "code",
            "execution_count": 3,
            "metadata": {},
            "outputs": [],
            "source": [
                "import pokehelpyer.pokehelpyer as pk"
            ]
        },
        {
            "attachments": {},
            "cell_type": "markdown",
            "metadata": {},
            "source": [
                "Pokehelpyer offers five different functions, which are used to find the sixth-best player that can be added so that we have a strong team of pokémons. \n",
                "\n",
                "### get_types()"
            ]
        },
        {
            "attachments": {},
            "cell_type": "markdown",
            "metadata": {},
            "source": [
                "The `get_types` function takes an input list of pokémons currently in the team and determines the type of each pokémon using an existing dataset. Please note that some of the pokémons are of dual types and some are single types. Hence, the output will be a list of list of strings in which each list will contain the type of the pokémon."
            ]
        },
        {
            "cell_type": "code",
            "execution_count": 8,
            "metadata": {},
            "outputs": [
                {
                    "data": {
                        "text/plain": [
                            "[['Electric'], ['Normal'], ['Fire', 'Flying'], ['Bug'], ['Electric']]"
                        ]
                    },
                    "execution_count": 8,
                    "metadata": {},
                    "output_type": "execute_result"
                }
            ],
            "source": [
                "team_list = ['Pikachu', 'Eevee', 'Charizard', 'Metapod', 'Pikachu']\n",
                "poke_types = pk.get_types(team_list)\n",
                "poke_types"
            ]
        },
        {
            "attachments": {},
            "cell_type": "markdown",
            "metadata": {},
            "source": [
                "### calc_weaknesses()"
            ]
        },
        {
            "attachments": {},
            "cell_type": "markdown",
            "metadata": {},
            "source": [
                "Each type of pokémon in the current team will be weak against some other type of pokémons. There are also instances when a particular pokémon is of dual type and can neutralize the effect of weakness for that pokémon in the game. This function takes in a list of list strings as input which contains the types of each pokémon in the team. It then calculates a measure of how weak the team is to each pokemon in the game. The output is a dictionary whose keys are each of the 18 types in the game and the values are integers measuring the level of weakness the input team has to that key type. Higher values indicate a higher level of weakness to that type."
            ]
        },
        {
            "cell_type": "code",
            "execution_count": 5,
            "metadata": {},
            "outputs": [
                {
                    "data": {
                        "text/plain": [
                            "{'Normal': 0,\n",
                            " 'Fire': 1,\n",
                            " 'Water': 1,\n",
                            " 'Electric': 1,\n",
                            " 'Grass': 0,\n",
                            " 'Ice': 0,\n",
                            " 'Fighting': 1,\n",
                            " 'Poison': 0,\n",
                            " 'Ground': 2,\n",
                            " 'Flying': 1,\n",
                            " 'Psychic': 0,\n",
                            " 'Bug': 0,\n",
                            " 'Rock': 3,\n",
                            " 'Ghost': 0,\n",
                            " 'Dragon': 0,\n",
                            " 'Dark': 0,\n",
                            " 'Steel': 0,\n",
                            " 'Fairy': 0}"
                        ]
                    },
                    "execution_count": 5,
                    "metadata": {},
                    "output_type": "execute_result"
                }
            ],
            "source": [
                "\n",
                "weaknesses = pk.calc_weaknesses(poke_types)\n",
                "weaknesses"
            ]
        },
        {
            "attachments": {},
            "cell_type": "markdown",
            "metadata": {},
            "source": [
                "### calc_resistances()"
            ]
        },
        {
            "attachments": {},
            "cell_type": "markdown",
            "metadata": {},
            "source": [
                "Each type of pokémon in the game will be resistant to some other type of pokémons in the game. There are also instances when a particular pokémon is of dual type and can neutralize the effect of resistance for that pokémon in the game. This function takes in a list of list strings as input which contains the types of each pokémon in the team. It then calculates a measure of how resistant the team is to each type in the game. The output is a dictionary whose keys are each of the 18 types in the game and the values are integers measuring the level of resistance the input team has to that key type. Higher values indicate a higher level of resistance to that type."
            ]
        },
        {
            "cell_type": "code",
            "execution_count": 6,
            "metadata": {},
            "outputs": [
                {
                    "data": {
                        "text/plain": [
                            "{'Normal': 0,\n",
                            " 'Fire': 1,\n",
                            " 'Water': 1,\n",
                            " 'Electric': 1,\n",
                            " 'Grass': 0,\n",
                            " 'Ice': 0,\n",
                            " 'Fighting': 1,\n",
                            " 'Poison': 0,\n",
                            " 'Ground': 2,\n",
                            " 'Flying': 1,\n",
                            " 'Psychic': 0,\n",
                            " 'Bug': 0,\n",
                            " 'Rock': 3,\n",
                            " 'Ghost': 0,\n",
                            " 'Dragon': 0,\n",
                            " 'Dark': 0,\n",
                            " 'Steel': 0,\n",
                            " 'Fairy': 0}"
                        ]
                    },
                    "execution_count": 6,
                    "metadata": {},
                    "output_type": "execute_result"
                }
            ],
            "source": [
                "\n",
                "resistances = pk.calc_resistances(poke_types)\n",
                "weaknesses"
            ]
        },
        {
            "cell_type": "markdown",
            "metadata": {},
            "source": []
        }
    ],
    "metadata": {
        "kernelspec": {
            "display_name": "pokehelpyer",
            "language": "python",
            "name": "python3"
        },
        "language_info": {
            "codemirror_mode": {
                "name": "ipython",
                "version": 3
            },
            "file_extension": ".py",
            "mimetype": "text/x-python",
            "name": "python",
            "nbconvert_exporter": "python",
            "pygments_lexer": "ipython3",
            "version": "3.9.15"
        },
        "vscode": {
            "interpreter": {
                "hash": "cfd263457b2912bceec23a9f64168d7bdf88f23c192fd3ae070087538587d397"
            }
        }
    },
    "nbformat": 4,
    "nbformat_minor": 4
}
