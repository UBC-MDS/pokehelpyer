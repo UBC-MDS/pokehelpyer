{
    "cells": [
        {
            "attachments": {},
            "cell_type": "markdown",
            "metadata": {},
            "source": [
                "# Example usage\n",
                "\n",
                "`pokehelpyer` is a Python package designed to assist Pokémon players in building teams of pokémon. Users can provide a list of pokémon currently on their team, and `pokehelpyer` will make a suitable recommendation for pokémon which can strengthen the current team by balancing it's overall weaknesses and resistances.\n",
                "\n",
                "Given a list of up to five pokémon currently on a team, `pokehelpyer` will determine which types the team is most weak to and which types the team is most resistant to. Based on this information, `pokehelpyer` will then recommend a pokémon that could be added to the current team to make its weaknesses and resistances more balanced.\n",
                "\n",
                "To use `pokehelpyer` in a project, we will first import the package as shown below:"
            ]
        },
        {
            "cell_type": "code",
            "execution_count": 1,
            "metadata": {},
            "outputs": [],
            "source": [
                "import pokehelpyer.pokehelpyer as pk"
            ]
        },
        {
            "attachments": {},
            "cell_type": "markdown",
            "metadata": {},
            "source": [
                "`pokehelpyer` currently includes five different functions which can be used to explore the resistances and weaknesses of our pokémon team. Using these functions effectively can help us build a strong team of pokémon. \n",
                "\n",
                "### `get_types`"
            ]
        },
        {
            "attachments": {},
            "cell_type": "markdown",
            "metadata": {},
            "source": [
                "The `get_types` function takes an input list of pokémon currently in our team and determines the type of each pokémon using an existing dataset. Please note that some pokémon have dual types and some pokémon have a single type. Hence, the output will be a list of list of strings in which each inner list will contain the type(s) of the pokémon.\n",
                "\n",
                "In the example below, Pikachu, Eevee, and Metapod are all single-type pokémon, whereas Charizard is a dual-type pokémon."
            ]
        },
        {
            "cell_type": "code",
            "execution_count": 2,
            "metadata": {},
            "outputs": [
                {
                    "data": {
                        "text/plain": [
                            "[['Electric'], ['Normal'], ['Fire', 'Flying'], ['Bug']]"
                        ]
                    },
                    "execution_count": 2,
                    "metadata": {},
                    "output_type": "execute_result"
                }
            ],
            "source": [
                "team_list = ['Pikachu', 'Eevee', 'Charizard', 'Metapod']\n",
                "team_types = pk.get_types(team_list)\n",
                "\n",
                "team_types"
            ]
        },
        {
            "attachments": {},
            "cell_type": "markdown",
            "metadata": {},
            "source": [
                "### `calc_weaknesses` and `calc_resistances`"
            ]
        },
        {
            "attachments": {},
            "cell_type": "markdown",
            "metadata": {},
            "source": [
                "Each type of pokémon is weak to and resistant to attacks from certain other types of pokémon. For example, fire-type pokémon are weak to water-type attacks and resistant to bug-type attacks.\n",
                "\n",
                "This is complicated a bit by dual-types pokémon. Some dual-typed pokemon can be doubly weak or doubly resistant to certain types. For an example of double weakness, we have [Abomasnow](https://bulbapedia.bulbagarden.net/wiki/Abomasnow_(Pok%C3%A9mon)), which is both ice-type and grass-type, and as a result is doubly weak to fire-type attacks. An example of double resistance is [Skarmory](https://bulbapedia.bulbagarden.net/wiki/Skarmory_(Pok%C3%A9mon)), which is both steel-type and flying-type, and as a result is doubly resistant to bug-type attacks and grass-type attacks.\n",
                "\n",
                "Further, some dual-typed pokemon can have a weakness cancel out with a resistance. For an example, we can consider Skarmory yet again. Flying-type pokemon are weak to rock-type and ice-type attacks, but steel-type pokemon are resistant to rock-type and ice-type attacks. As a result, Skarmory takes normal damage from rock-type and ice-type attacks."
            ]
        },
        {
            "attachments": {},
            "cell_type": "markdown",
            "metadata": {},
            "source": [
                "The input for `calc_weaknesses` / `calc_resistances` should be a list of lists strings which contains the types of the pokémon on our team (i.e. the output from `get_types`). These functions then calculate a measure of how weak / resistant our team is to each pokemon type in the game. The output is a dictionary whose keys are each of the 18 types in the game and whose values are integers measuring the level of weakness / resistance our team has to each type. Higher values indicate a higher level of weakness / resistance to that type (key)."
            ]
        },
        {
            "cell_type": "code",
            "execution_count": 3,
            "metadata": {},
            "outputs": [
                {
                    "name": "stdout",
                    "output_type": "stream",
                    "text": [
                        "weaknesses: {'Normal': 0, 'Fire': 1, 'Water': 1, 'Electric': 1, 'Grass': 0, 'Ice': 0, 'Fighting': 1, 'Poison': 0, 'Ground': 1, 'Flying': 1, 'Psychic': 0, 'Bug': 0, 'Rock': 3, 'Ghost': 0, 'Dragon': 0, 'Dark': 0, 'Steel': 0, 'Fairy': 0}\n",
                        "\n",
                        "resistances: {'Normal': 0, 'Fire': 1, 'Water': 0, 'Electric': 1, 'Grass': 3, 'Ice': 0, 'Fighting': 2, 'Poison': 0, 'Ground': 4, 'Flying': 1, 'Psychic': 0, 'Bug': 2, 'Rock': 0, 'Ghost': 3, 'Dragon': 0, 'Dark': 0, 'Steel': 2, 'Fairy': 1}\n",
                        "\n"
                    ]
                }
            ],
            "source": [
                "team_weaknesses = pk.calc_weaknesses(team_types)\n",
                "team_resistances = pk.calc_resistances(team_types)\n",
                "\n",
                "print(f'weaknesses: {team_weaknesses}\\n')\n",
                "print(f'resistances: {team_resistances}\\n')"
            ]
        },
        {
            "attachments": {},
            "cell_type": "markdown",
            "metadata": {},
            "source": [
                "### `calc_balance`"
            ]
        },
        {
            "attachments": {},
            "cell_type": "markdown",
            "metadata": {},
            "source": [
                "Since the `recommend` function uses the information in the dictionaries created by `calc_weaknesses` and `calc_resistances` to determine which pokemon could be added to the existing team to make it more \"balanced\", we must first define a metric to measure how \"balanced\" a team is. To this end, we use the following:\n",
                "> For $i=1,2,\\dots, 18$, let $w_i$ be the value corresponding to the $i$ -th pokemon type in the dictionary returned by `calc_weaknesses` and let $r_i$ be the value corresponding to the $i$ -th pokemon type in the dictionary returned by `calc_resistances`. Now define $\\delta_i = r_i -  w_i$. If $\\delta_i < 0$, then the team is weak (overall) to pokemon type $i$, and this should definitely be considered. The more negative $\\delta_i$ is, the more problematic. For example, if a player used a team of 5 fire type pokemon, then $\\delta_{\\text{water}}$ would be equal to -5, and this would be a big problem. If $\\delta_i > 0$, then the team is resistant (overall) to pokemon type $i$, which is a good thing. The more positive the better, but any value greater than zero is good. \n",
                ">\n",
                "> Hence, we penalize negative $\\delta_i$ values more than we reward positive $\\delta_i$ values. We define the `type-advantage`, $TA$, corresponding to the $i$ -th type to be a piecewise function of $\\delta_i$. In particular, \n",
                ">\n",
                "> $TA_i = -(-\\delta_i)^{\\frac{3}{2}}$ if $\\delta_i < 0$ and $TA_i = \\delta_i^{\\frac{3}{4}}$ if $\\delta_i \\geq 0$.\n",
                ">\n",
                "> The above $TA$ function penalizes large negative values of $\\delta_i$ much more than it penalizes small negative values. On the flip side, it does not reward large positive values of $\\delta_i$ much more than it rewards small positive values. \n",
                ">\n",
                "> Finally, we define the `balance` metric of a team as follows: $balance = \\sum_iTA_i$. Higher values of `balance` indicate well-balanced teams, and lower values indicate teams that could use improvement. \n"
            ]
        },
        {
            "attachments": {},
            "cell_type": "markdown",
            "metadata": {},
            "source": [
                "The `calc_balance` function takes the dictionaries returned by `calc_weaknesses` and `calc_resistances` as input, and returns the `balance` resulting from the above calculations."
            ]
        },
        {
            "cell_type": "code",
            "execution_count": 9,
            "metadata": {},
            "outputs": [
                {
                    "name": "stdout",
                    "output_type": "stream",
                    "text": [
                        "6.006\n"
                    ]
                }
            ],
            "source": [
                "team_balance = pk.calc_balance(\n",
                "    resistances=team_resistances, \n",
                "    weaknesses=team_weaknesses\n",
                ")\n",
                "\n",
                "print(round(team_balance, 3))"
            ]
        },
        {
            "attachments": {},
            "cell_type": "markdown",
            "metadata": {},
            "source": [
                "### `recommend`"
            ]
        },
        {
            "attachments": {},
            "cell_type": "markdown",
            "metadata": {},
            "source": [
                "The goal of the `recommend` function is the following: `\"given an input list of up 5 pokemon, determine which pokemon should be added to the team to maximize its 'balance' metric\"`. This is accomplished via a simple brute-force search since the total number of pokemon available is not very large (~700). \n",
                "\n",
                "Let's try giving `recommend` a team of five fire-type pokémon. Since this team is very weak to water-type and rock-type attacks, we should expect `recommend` to return pokémon that resists water-type and rock-type attacks. "
            ]
        },
        {
            "cell_type": "code",
            "execution_count": 5,
            "metadata": {},
            "outputs": [
                {
                    "name": "stdout",
                    "output_type": "stream",
                    "text": [
                        "Iteration number 1 of 692.\n",
                        "Iteration number 100 of 692.\n",
                        "Iteration number 200 of 692.\n",
                        "Iteration number 300 of 692.\n",
                        "Iteration number 400 of 692.\n",
                        "Iteration number 500 of 692.\n",
                        "Iteration number 600 of 692.\n"
                    ]
                },
                {
                    "data": {
                        "text/plain": [
                            "['Skarmory', 'Ferrothorn']"
                        ]
                    },
                    "execution_count": 5,
                    "metadata": {},
                    "output_type": "execute_result"
                }
            ],
            "source": [
                "fire_team = ['Charmander', 'Torchic', 'Vulpix', 'Flareon', 'Chimchar']\n",
                "#pk.recommend(fire_team, n_recommendations=2)"
            ]
        },
        {
            "attachments": {},
            "cell_type": "markdown",
            "metadata": {},
            "source": [
                "Skarmory is doubly-reistant to rock-type attacks and (normally) resistant to water-type attacks. On the other hand, Ferrothorn is doubly-resistant to water-type attacks and (normally) resistant to rock-type attacks. Adding either of these pokemon to our team of five fire-types would definitely help improve the team's balance. Looks like the function is working as expected!!"
            ]
        }
    ],
    "metadata": {
        "kernelspec": {
            "display_name": "pokehelpyer",
            "language": "python",
            "name": "python3"
        },
        "language_info": {
            "codemirror_mode": {
                "name": "ipython",
                "version": 3
            },
            "file_extension": ".py",
            "mimetype": "text/x-python",
            "name": "python",
            "nbconvert_exporter": "python",
            "pygments_lexer": "ipython3",
            "version": "3.9.15"
        },
        "vscode": {
            "interpreter": {
                "hash": "1b879647b207a01b85c492104f6811b390977f77eef708218f9a455577f0d770"
            }
        }
    },
    "nbformat": 4,
    "nbformat_minor": 4
}
